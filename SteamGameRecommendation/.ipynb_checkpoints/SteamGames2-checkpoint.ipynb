{
 "cells": [
  {
   "cell_type": "markdown",
   "id": "62a6ba16",
   "metadata": {},
   "source": [
    "# 2023 Steam Games Recommendation System"
   ]
  },
  {
   "cell_type": "markdown",
   "id": "6d8a018f",
   "metadata": {},
   "source": [
    "The core of this project lies in analyzing a wide array of categories and genres to accurately suggest games that align with a user's interests and play style. "
   ]
  },
  {
   "cell_type": "code",
   "execution_count": 122,
   "id": "67f97f56",
   "metadata": {
    "ExecuteTime": {
     "end_time": "2023-08-05T18:10:57.509635Z",
     "start_time": "2023-08-05T18:10:57.496624Z"
    }
   },
   "outputs": [],
   "source": [
    "import pandas as pd\n",
    "from ast import literal_eval\n",
    "from sklearn.feature_extraction.text import CountVectorizer\n",
    "from sklearn.metrics.pairwise import cosine_similarity"
   ]
  },
  {
   "cell_type": "markdown",
   "id": "2211e348",
   "metadata": {},
   "source": [
    "I am utilizing a Kaggle dataset containing games' metadata, including names, required age, and categories."
   ]
  },
  {
   "cell_type": "code",
   "execution_count": 123,
   "id": "43f56be1",
   "metadata": {
    "ExecuteTime": {
     "end_time": "2023-08-05T18:10:57.695794Z",
     "start_time": "2023-08-05T18:10:57.510636Z"
    }
   },
   "outputs": [
    {
     "data": {
      "text/html": [
       "<div>\n",
       "<style scoped>\n",
       "    .dataframe tbody tr th:only-of-type {\n",
       "        vertical-align: middle;\n",
       "    }\n",
       "\n",
       "    .dataframe tbody tr th {\n",
       "        vertical-align: top;\n",
       "    }\n",
       "\n",
       "    .dataframe thead th {\n",
       "        text-align: right;\n",
       "    }\n",
       "</style>\n",
       "<table border=\"1\" class=\"dataframe\">\n",
       "  <thead>\n",
       "    <tr style=\"text-align: right;\">\n",
       "      <th></th>\n",
       "      <th>type</th>\n",
       "      <th>name</th>\n",
       "      <th>steam_appid</th>\n",
       "      <th>required_age</th>\n",
       "      <th>is_free</th>\n",
       "      <th>controller_support</th>\n",
       "      <th>dlc</th>\n",
       "      <th>detailed_description</th>\n",
       "      <th>about_the_game</th>\n",
       "      <th>short_description</th>\n",
       "      <th>...</th>\n",
       "      <th>categories</th>\n",
       "      <th>genres</th>\n",
       "      <th>screenshots</th>\n",
       "      <th>movies</th>\n",
       "      <th>recommendations</th>\n",
       "      <th>achievements</th>\n",
       "      <th>release_date</th>\n",
       "      <th>support_info</th>\n",
       "      <th>background</th>\n",
       "      <th>content_descriptors</th>\n",
       "    </tr>\n",
       "  </thead>\n",
       "  <tbody>\n",
       "    <tr>\n",
       "      <th>0</th>\n",
       "      <td>game</td>\n",
       "      <td>Counter-Strike</td>\n",
       "      <td>10</td>\n",
       "      <td>0.0</td>\n",
       "      <td>False</td>\n",
       "      <td>NaN</td>\n",
       "      <td>NaN</td>\n",
       "      <td>Play the world's number 1 online action game. ...</td>\n",
       "      <td>Play the world's number 1 online action game. ...</td>\n",
       "      <td>Play the world's number 1 online action game. ...</td>\n",
       "      <td>...</td>\n",
       "      <td>[{'id': 1, 'description': 'Multi-player'}, {'i...</td>\n",
       "      <td>[{'id': '1', 'description': 'Action'}]</td>\n",
       "      <td>[{'id': 0, 'path_thumbnail': 'https://cdn.akam...</td>\n",
       "      <td>NaN</td>\n",
       "      <td>{'total': 137378}</td>\n",
       "      <td>NaN</td>\n",
       "      <td>{'coming_soon': False, 'date': '1 Nov, 2000'}</td>\n",
       "      <td>{'url': 'http://steamcommunity.com/app/10', 'e...</td>\n",
       "      <td>https://cdn.akamai.steamstatic.com/steam/apps/...</td>\n",
       "      <td>{'ids': [2, 5], 'notes': 'Includes intense vio...</td>\n",
       "    </tr>\n",
       "    <tr>\n",
       "      <th>1</th>\n",
       "      <td>game</td>\n",
       "      <td>Team Fortress Classic</td>\n",
       "      <td>20</td>\n",
       "      <td>0.0</td>\n",
       "      <td>False</td>\n",
       "      <td>NaN</td>\n",
       "      <td>NaN</td>\n",
       "      <td>One of the most popular online action games of...</td>\n",
       "      <td>One of the most popular online action games of...</td>\n",
       "      <td>One of the most popular online action games of...</td>\n",
       "      <td>...</td>\n",
       "      <td>[{'id': 1, 'description': 'Multi-player'}, {'i...</td>\n",
       "      <td>[{'id': '1', 'description': 'Action'}]</td>\n",
       "      <td>[{'id': 0, 'path_thumbnail': 'https://cdn.akam...</td>\n",
       "      <td>NaN</td>\n",
       "      <td>{'total': 5474}</td>\n",
       "      <td>NaN</td>\n",
       "      <td>{'coming_soon': False, 'date': '1 Apr, 1999'}</td>\n",
       "      <td>{'url': '', 'email': ''}</td>\n",
       "      <td>https://cdn.akamai.steamstatic.com/steam/apps/...</td>\n",
       "      <td>{'ids': [2, 5], 'notes': 'Includes intense vio...</td>\n",
       "    </tr>\n",
       "    <tr>\n",
       "      <th>2</th>\n",
       "      <td>game</td>\n",
       "      <td>Day of Defeat</td>\n",
       "      <td>30</td>\n",
       "      <td>0.0</td>\n",
       "      <td>False</td>\n",
       "      <td>NaN</td>\n",
       "      <td>NaN</td>\n",
       "      <td>Enlist in an intense brand of Axis vs. Allied ...</td>\n",
       "      <td>Enlist in an intense brand of Axis vs. Allied ...</td>\n",
       "      <td>Enlist in an intense brand of Axis vs. Allied ...</td>\n",
       "      <td>...</td>\n",
       "      <td>[{'id': 1, 'description': 'Multi-player'}, {'i...</td>\n",
       "      <td>[{'id': '1', 'description': 'Action'}]</td>\n",
       "      <td>[{'id': 0, 'path_thumbnail': 'https://cdn.akam...</td>\n",
       "      <td>NaN</td>\n",
       "      <td>{'total': 3694}</td>\n",
       "      <td>NaN</td>\n",
       "      <td>{'coming_soon': False, 'date': '1 May, 2003'}</td>\n",
       "      <td>{'url': '', 'email': ''}</td>\n",
       "      <td>https://cdn.akamai.steamstatic.com/steam/apps/...</td>\n",
       "      <td>{'ids': [], 'notes': None}</td>\n",
       "    </tr>\n",
       "    <tr>\n",
       "      <th>3</th>\n",
       "      <td>game</td>\n",
       "      <td>Deathmatch Classic</td>\n",
       "      <td>40</td>\n",
       "      <td>0.0</td>\n",
       "      <td>False</td>\n",
       "      <td>NaN</td>\n",
       "      <td>NaN</td>\n",
       "      <td>Enjoy fast-paced multiplayer gaming with Death...</td>\n",
       "      <td>Enjoy fast-paced multiplayer gaming with Death...</td>\n",
       "      <td>Enjoy fast-paced multiplayer gaming with Death...</td>\n",
       "      <td>...</td>\n",
       "      <td>[{'id': 1, 'description': 'Multi-player'}, {'i...</td>\n",
       "      <td>[{'id': '1', 'description': 'Action'}]</td>\n",
       "      <td>[{'id': 0, 'path_thumbnail': 'https://cdn.akam...</td>\n",
       "      <td>NaN</td>\n",
       "      <td>{'total': 1924}</td>\n",
       "      <td>NaN</td>\n",
       "      <td>{'coming_soon': False, 'date': '1 Jun, 2001'}</td>\n",
       "      <td>{'url': '', 'email': ''}</td>\n",
       "      <td>https://cdn.akamai.steamstatic.com/steam/apps/...</td>\n",
       "      <td>{'ids': [], 'notes': None}</td>\n",
       "    </tr>\n",
       "    <tr>\n",
       "      <th>4</th>\n",
       "      <td>game</td>\n",
       "      <td>Half-Life: Opposing Force</td>\n",
       "      <td>50</td>\n",
       "      <td>0.0</td>\n",
       "      <td>False</td>\n",
       "      <td>NaN</td>\n",
       "      <td>NaN</td>\n",
       "      <td>Return to the Black Mesa Research Facility as ...</td>\n",
       "      <td>Return to the Black Mesa Research Facility as ...</td>\n",
       "      <td>Return to the Black Mesa Research Facility as ...</td>\n",
       "      <td>...</td>\n",
       "      <td>[{'id': 2, 'description': 'Single-player'}, {'...</td>\n",
       "      <td>[{'id': '1', 'description': 'Action'}]</td>\n",
       "      <td>[{'id': 0, 'path_thumbnail': 'https://cdn.akam...</td>\n",
       "      <td>NaN</td>\n",
       "      <td>{'total': 15478}</td>\n",
       "      <td>NaN</td>\n",
       "      <td>{'coming_soon': False, 'date': '1 Nov, 1999'}</td>\n",
       "      <td>{'url': 'https://help.steampowered.com', 'emai...</td>\n",
       "      <td>https://cdn.akamai.steamstatic.com/steam/apps/...</td>\n",
       "      <td>{'ids': [], 'notes': None}</td>\n",
       "    </tr>\n",
       "  </tbody>\n",
       "</table>\n",
       "<p>5 rows × 39 columns</p>\n",
       "</div>"
      ],
      "text/plain": [
       "   type                       name  steam_appid  required_age is_free  \\\n",
       "0  game             Counter-Strike           10           0.0   False   \n",
       "1  game      Team Fortress Classic           20           0.0   False   \n",
       "2  game              Day of Defeat           30           0.0   False   \n",
       "3  game         Deathmatch Classic           40           0.0   False   \n",
       "4  game  Half-Life: Opposing Force           50           0.0   False   \n",
       "\n",
       "  controller_support  dlc                               detailed_description  \\\n",
       "0                NaN  NaN  Play the world's number 1 online action game. ...   \n",
       "1                NaN  NaN  One of the most popular online action games of...   \n",
       "2                NaN  NaN  Enlist in an intense brand of Axis vs. Allied ...   \n",
       "3                NaN  NaN  Enjoy fast-paced multiplayer gaming with Death...   \n",
       "4                NaN  NaN  Return to the Black Mesa Research Facility as ...   \n",
       "\n",
       "                                      about_the_game  \\\n",
       "0  Play the world's number 1 online action game. ...   \n",
       "1  One of the most popular online action games of...   \n",
       "2  Enlist in an intense brand of Axis vs. Allied ...   \n",
       "3  Enjoy fast-paced multiplayer gaming with Death...   \n",
       "4  Return to the Black Mesa Research Facility as ...   \n",
       "\n",
       "                                   short_description  ...  \\\n",
       "0  Play the world's number 1 online action game. ...  ...   \n",
       "1  One of the most popular online action games of...  ...   \n",
       "2  Enlist in an intense brand of Axis vs. Allied ...  ...   \n",
       "3  Enjoy fast-paced multiplayer gaming with Death...  ...   \n",
       "4  Return to the Black Mesa Research Facility as ...  ...   \n",
       "\n",
       "                                          categories  \\\n",
       "0  [{'id': 1, 'description': 'Multi-player'}, {'i...   \n",
       "1  [{'id': 1, 'description': 'Multi-player'}, {'i...   \n",
       "2  [{'id': 1, 'description': 'Multi-player'}, {'i...   \n",
       "3  [{'id': 1, 'description': 'Multi-player'}, {'i...   \n",
       "4  [{'id': 2, 'description': 'Single-player'}, {'...   \n",
       "\n",
       "                                   genres  \\\n",
       "0  [{'id': '1', 'description': 'Action'}]   \n",
       "1  [{'id': '1', 'description': 'Action'}]   \n",
       "2  [{'id': '1', 'description': 'Action'}]   \n",
       "3  [{'id': '1', 'description': 'Action'}]   \n",
       "4  [{'id': '1', 'description': 'Action'}]   \n",
       "\n",
       "                                         screenshots movies  \\\n",
       "0  [{'id': 0, 'path_thumbnail': 'https://cdn.akam...    NaN   \n",
       "1  [{'id': 0, 'path_thumbnail': 'https://cdn.akam...    NaN   \n",
       "2  [{'id': 0, 'path_thumbnail': 'https://cdn.akam...    NaN   \n",
       "3  [{'id': 0, 'path_thumbnail': 'https://cdn.akam...    NaN   \n",
       "4  [{'id': 0, 'path_thumbnail': 'https://cdn.akam...    NaN   \n",
       "\n",
       "     recommendations achievements  \\\n",
       "0  {'total': 137378}          NaN   \n",
       "1    {'total': 5474}          NaN   \n",
       "2    {'total': 3694}          NaN   \n",
       "3    {'total': 1924}          NaN   \n",
       "4   {'total': 15478}          NaN   \n",
       "\n",
       "                                    release_date  \\\n",
       "0  {'coming_soon': False, 'date': '1 Nov, 2000'}   \n",
       "1  {'coming_soon': False, 'date': '1 Apr, 1999'}   \n",
       "2  {'coming_soon': False, 'date': '1 May, 2003'}   \n",
       "3  {'coming_soon': False, 'date': '1 Jun, 2001'}   \n",
       "4  {'coming_soon': False, 'date': '1 Nov, 1999'}   \n",
       "\n",
       "                                        support_info  \\\n",
       "0  {'url': 'http://steamcommunity.com/app/10', 'e...   \n",
       "1                           {'url': '', 'email': ''}   \n",
       "2                           {'url': '', 'email': ''}   \n",
       "3                           {'url': '', 'email': ''}   \n",
       "4  {'url': 'https://help.steampowered.com', 'emai...   \n",
       "\n",
       "                                          background  \\\n",
       "0  https://cdn.akamai.steamstatic.com/steam/apps/...   \n",
       "1  https://cdn.akamai.steamstatic.com/steam/apps/...   \n",
       "2  https://cdn.akamai.steamstatic.com/steam/apps/...   \n",
       "3  https://cdn.akamai.steamstatic.com/steam/apps/...   \n",
       "4  https://cdn.akamai.steamstatic.com/steam/apps/...   \n",
       "\n",
       "                                 content_descriptors  \n",
       "0  {'ids': [2, 5], 'notes': 'Includes intense vio...  \n",
       "1  {'ids': [2, 5], 'notes': 'Includes intense vio...  \n",
       "2                         {'ids': [], 'notes': None}  \n",
       "3                         {'ids': [], 'notes': None}  \n",
       "4                         {'ids': [], 'notes': None}  \n",
       "\n",
       "[5 rows x 39 columns]"
      ]
     },
     "execution_count": 123,
     "metadata": {},
     "output_type": "execute_result"
    }
   ],
   "source": [
    "games_df = pd.read_csv('steam_app_data.csv')\n",
    "games_df.head()"
   ]
  },
  {
   "cell_type": "code",
   "execution_count": 124,
   "id": "4428f8eb",
   "metadata": {
    "ExecuteTime": {
     "end_time": "2023-08-05T18:10:57.711308Z",
     "start_time": "2023-08-05T18:10:57.696796Z"
    }
   },
   "outputs": [
    {
     "data": {
      "text/html": [
       "<div>\n",
       "<style scoped>\n",
       "    .dataframe tbody tr th:only-of-type {\n",
       "        vertical-align: middle;\n",
       "    }\n",
       "\n",
       "    .dataframe tbody tr th {\n",
       "        vertical-align: top;\n",
       "    }\n",
       "\n",
       "    .dataframe thead th {\n",
       "        text-align: right;\n",
       "    }\n",
       "</style>\n",
       "<table border=\"1\" class=\"dataframe\">\n",
       "  <thead>\n",
       "    <tr style=\"text-align: right;\">\n",
       "      <th></th>\n",
       "      <th>name</th>\n",
       "      <th>categories</th>\n",
       "      <th>genres</th>\n",
       "    </tr>\n",
       "  </thead>\n",
       "  <tbody>\n",
       "    <tr>\n",
       "      <th>0</th>\n",
       "      <td>Counter-Strike</td>\n",
       "      <td>[{'id': 1, 'description': 'Multi-player'}, {'i...</td>\n",
       "      <td>[{'id': '1', 'description': 'Action'}]</td>\n",
       "    </tr>\n",
       "    <tr>\n",
       "      <th>1</th>\n",
       "      <td>Team Fortress Classic</td>\n",
       "      <td>[{'id': 1, 'description': 'Multi-player'}, {'i...</td>\n",
       "      <td>[{'id': '1', 'description': 'Action'}]</td>\n",
       "    </tr>\n",
       "    <tr>\n",
       "      <th>2</th>\n",
       "      <td>Day of Defeat</td>\n",
       "      <td>[{'id': 1, 'description': 'Multi-player'}, {'i...</td>\n",
       "      <td>[{'id': '1', 'description': 'Action'}]</td>\n",
       "    </tr>\n",
       "    <tr>\n",
       "      <th>3</th>\n",
       "      <td>Deathmatch Classic</td>\n",
       "      <td>[{'id': 1, 'description': 'Multi-player'}, {'i...</td>\n",
       "      <td>[{'id': '1', 'description': 'Action'}]</td>\n",
       "    </tr>\n",
       "    <tr>\n",
       "      <th>4</th>\n",
       "      <td>Half-Life: Opposing Force</td>\n",
       "      <td>[{'id': 2, 'description': 'Single-player'}, {'...</td>\n",
       "      <td>[{'id': '1', 'description': 'Action'}]</td>\n",
       "    </tr>\n",
       "  </tbody>\n",
       "</table>\n",
       "</div>"
      ],
      "text/plain": [
       "                        name  \\\n",
       "0             Counter-Strike   \n",
       "1      Team Fortress Classic   \n",
       "2              Day of Defeat   \n",
       "3         Deathmatch Classic   \n",
       "4  Half-Life: Opposing Force   \n",
       "\n",
       "                                          categories  \\\n",
       "0  [{'id': 1, 'description': 'Multi-player'}, {'i...   \n",
       "1  [{'id': 1, 'description': 'Multi-player'}, {'i...   \n",
       "2  [{'id': 1, 'description': 'Multi-player'}, {'i...   \n",
       "3  [{'id': 1, 'description': 'Multi-player'}, {'i...   \n",
       "4  [{'id': 2, 'description': 'Single-player'}, {'...   \n",
       "\n",
       "                                   genres  \n",
       "0  [{'id': '1', 'description': 'Action'}]  \n",
       "1  [{'id': '1', 'description': 'Action'}]  \n",
       "2  [{'id': '1', 'description': 'Action'}]  \n",
       "3  [{'id': '1', 'description': 'Action'}]  \n",
       "4  [{'id': '1', 'description': 'Action'}]  "
      ]
     },
     "execution_count": 124,
     "metadata": {},
     "output_type": "execute_result"
    }
   ],
   "source": [
    "#create a smaller dataframe focused only on name, categories and genres columns.\n",
    "games_cat_df = games_df[['name','categories', 'genres']]\n",
    "games_cat_df.head()"
   ]
  },
  {
   "cell_type": "code",
   "execution_count": 125,
   "id": "5f3ac1b9",
   "metadata": {
    "ExecuteTime": {
     "end_time": "2023-08-05T18:10:57.726822Z",
     "start_time": "2023-08-05T18:10:57.713310Z"
    }
   },
   "outputs": [
    {
     "data": {
      "text/plain": [
       "name          0\n",
       "categories    8\n",
       "genres        8\n",
       "dtype: int64"
      ]
     },
     "execution_count": 125,
     "metadata": {},
     "output_type": "execute_result"
    }
   ],
   "source": [
    "#check for null values\n",
    "games_cat_df.isnull().sum()"
   ]
  },
  {
   "cell_type": "code",
   "execution_count": 126,
   "id": "5afaf817",
   "metadata": {
    "ExecuteTime": {
     "end_time": "2023-08-05T18:10:57.741999Z",
     "start_time": "2023-08-05T18:10:57.727822Z"
    }
   },
   "outputs": [],
   "source": [
    "#drop any null values\n",
    "games_cat_df = games_cat_df.dropna()"
   ]
  },
  {
   "cell_type": "code",
   "execution_count": 127,
   "id": "28c7e717",
   "metadata": {
    "ExecuteTime": {
     "end_time": "2023-08-05T18:10:57.757388Z",
     "start_time": "2023-08-05T18:10:57.743000Z"
    }
   },
   "outputs": [
    {
     "data": {
      "text/plain": [
       "name          0\n",
       "categories    0\n",
       "genres        0\n",
       "dtype: int64"
      ]
     },
     "execution_count": 127,
     "metadata": {},
     "output_type": "execute_result"
    }
   ],
   "source": [
    "#check if all null values are gone\n",
    "games_cat_df.isnull().sum()"
   ]
  },
  {
   "cell_type": "markdown",
   "id": "3001ef2c",
   "metadata": {},
   "source": [
    "I am utilizing features to personalize the recommendation: categories, genres. The data is present in a list of strings, so  am utilizing literal_eval function to convert the data into a safe and usable structure."
   ]
  },
  {
   "cell_type": "code",
   "execution_count": 129,
   "id": "8a8cec68",
   "metadata": {
    "ExecuteTime": {
     "end_time": "2023-08-05T18:10:57.928009Z",
     "start_time": "2023-08-05T18:10:57.773903Z"
    }
   },
   "outputs": [
    {
     "data": {
      "text/html": [
       "<div>\n",
       "<style scoped>\n",
       "    .dataframe tbody tr th:only-of-type {\n",
       "        vertical-align: middle;\n",
       "    }\n",
       "\n",
       "    .dataframe tbody tr th {\n",
       "        vertical-align: top;\n",
       "    }\n",
       "\n",
       "    .dataframe thead th {\n",
       "        text-align: right;\n",
       "    }\n",
       "</style>\n",
       "<table border=\"1\" class=\"dataframe\">\n",
       "  <thead>\n",
       "    <tr style=\"text-align: right;\">\n",
       "      <th></th>\n",
       "      <th>categories</th>\n",
       "      <th>genres</th>\n",
       "    </tr>\n",
       "  </thead>\n",
       "  <tbody>\n",
       "    <tr>\n",
       "      <th>0</th>\n",
       "      <td>[{'id': 1, 'description': 'Multi-player'}, {'i...</td>\n",
       "      <td>[{'id': '1', 'description': 'Action'}]</td>\n",
       "    </tr>\n",
       "    <tr>\n",
       "      <th>1</th>\n",
       "      <td>[{'id': 1, 'description': 'Multi-player'}, {'i...</td>\n",
       "      <td>[{'id': '1', 'description': 'Action'}]</td>\n",
       "    </tr>\n",
       "    <tr>\n",
       "      <th>2</th>\n",
       "      <td>[{'id': 1, 'description': 'Multi-player'}, {'i...</td>\n",
       "      <td>[{'id': '1', 'description': 'Action'}]</td>\n",
       "    </tr>\n",
       "    <tr>\n",
       "      <th>3</th>\n",
       "      <td>[{'id': 1, 'description': 'Multi-player'}, {'i...</td>\n",
       "      <td>[{'id': '1', 'description': 'Action'}]</td>\n",
       "    </tr>\n",
       "    <tr>\n",
       "      <th>4</th>\n",
       "      <td>[{'id': 2, 'description': 'Single-player'}, {'...</td>\n",
       "      <td>[{'id': '1', 'description': 'Action'}]</td>\n",
       "    </tr>\n",
       "  </tbody>\n",
       "</table>\n",
       "</div>"
      ],
      "text/plain": [
       "                                          categories  \\\n",
       "0  [{'id': 1, 'description': 'Multi-player'}, {'i...   \n",
       "1  [{'id': 1, 'description': 'Multi-player'}, {'i...   \n",
       "2  [{'id': 1, 'description': 'Multi-player'}, {'i...   \n",
       "3  [{'id': 1, 'description': 'Multi-player'}, {'i...   \n",
       "4  [{'id': 2, 'description': 'Single-player'}, {'...   \n",
       "\n",
       "                                   genres  \n",
       "0  [{'id': '1', 'description': 'Action'}]  \n",
       "1  [{'id': '1', 'description': 'Action'}]  \n",
       "2  [{'id': '1', 'description': 'Action'}]  \n",
       "3  [{'id': '1', 'description': 'Action'}]  \n",
       "4  [{'id': '1', 'description': 'Action'}]  "
      ]
     },
     "execution_count": 129,
     "metadata": {},
     "output_type": "execute_result"
    }
   ],
   "source": [
    "features = [\"categories\", \"genres\"]\n",
    "for feature in features:\n",
    "    games_cat_df[feature] = games_cat_df[feature].apply(literal_eval)\n",
    "games_cat_df[features].head()"
   ]
  },
  {
   "cell_type": "code",
   "execution_count": 130,
   "id": "16fdace2",
   "metadata": {
    "ExecuteTime": {
     "end_time": "2023-08-05T18:10:57.943385Z",
     "start_time": "2023-08-05T18:10:57.929010Z"
    }
   },
   "outputs": [],
   "source": [
    "#create a get list function to extract the string data from the features. Takes up to 15 elements (can be changed)\n",
    "def get_list(x):\n",
    "    if isinstance(x, list):\n",
    "        tags = [i[\"description\"] for i in x]\n",
    "        if len(tags) > 15:\n",
    "            tags = tags[:15]\n",
    "        return tags\n",
    "    return []"
   ]
  },
  {
   "cell_type": "code",
   "execution_count": 131,
   "id": "c266f828",
   "metadata": {
    "ExecuteTime": {
     "end_time": "2023-08-05T18:10:57.958893Z",
     "start_time": "2023-08-05T18:10:57.944886Z"
    }
   },
   "outputs": [],
   "source": [
    "features = [\"categories\", \"genres\"]\n",
    "for feature in features:\n",
    "    games_cat_df[feature] = games_cat_df[feature].apply(get_list)"
   ]
  },
  {
   "cell_type": "code",
   "execution_count": 132,
   "id": "14e0a1e8",
   "metadata": {
    "ExecuteTime": {
     "end_time": "2023-08-05T18:10:57.974407Z",
     "start_time": "2023-08-05T18:10:57.959894Z"
    }
   },
   "outputs": [
    {
     "data": {
      "text/html": [
       "<div>\n",
       "<style scoped>\n",
       "    .dataframe tbody tr th:only-of-type {\n",
       "        vertical-align: middle;\n",
       "    }\n",
       "\n",
       "    .dataframe tbody tr th {\n",
       "        vertical-align: top;\n",
       "    }\n",
       "\n",
       "    .dataframe thead th {\n",
       "        text-align: right;\n",
       "    }\n",
       "</style>\n",
       "<table border=\"1\" class=\"dataframe\">\n",
       "  <thead>\n",
       "    <tr style=\"text-align: right;\">\n",
       "      <th></th>\n",
       "      <th>name</th>\n",
       "      <th>categories</th>\n",
       "      <th>genres</th>\n",
       "    </tr>\n",
       "  </thead>\n",
       "  <tbody>\n",
       "    <tr>\n",
       "      <th>0</th>\n",
       "      <td>Counter-Strike</td>\n",
       "      <td>[Multi-player, PvP, Online PvP, Shared/Split S...</td>\n",
       "      <td>[Action]</td>\n",
       "    </tr>\n",
       "    <tr>\n",
       "      <th>1</th>\n",
       "      <td>Team Fortress Classic</td>\n",
       "      <td>[Multi-player, PvP, Online PvP, Shared/Split S...</td>\n",
       "      <td>[Action]</td>\n",
       "    </tr>\n",
       "    <tr>\n",
       "      <th>2</th>\n",
       "      <td>Day of Defeat</td>\n",
       "      <td>[Multi-player, Valve Anti-Cheat enabled]</td>\n",
       "      <td>[Action]</td>\n",
       "    </tr>\n",
       "    <tr>\n",
       "      <th>3</th>\n",
       "      <td>Deathmatch Classic</td>\n",
       "      <td>[Multi-player, PvP, Online PvP, Shared/Split S...</td>\n",
       "      <td>[Action]</td>\n",
       "    </tr>\n",
       "    <tr>\n",
       "      <th>4</th>\n",
       "      <td>Half-Life: Opposing Force</td>\n",
       "      <td>[Single-player, Multi-player, Valve Anti-Cheat...</td>\n",
       "      <td>[Action]</td>\n",
       "    </tr>\n",
       "  </tbody>\n",
       "</table>\n",
       "</div>"
      ],
      "text/plain": [
       "                        name  \\\n",
       "0             Counter-Strike   \n",
       "1      Team Fortress Classic   \n",
       "2              Day of Defeat   \n",
       "3         Deathmatch Classic   \n",
       "4  Half-Life: Opposing Force   \n",
       "\n",
       "                                          categories    genres  \n",
       "0  [Multi-player, PvP, Online PvP, Shared/Split S...  [Action]  \n",
       "1  [Multi-player, PvP, Online PvP, Shared/Split S...  [Action]  \n",
       "2           [Multi-player, Valve Anti-Cheat enabled]  [Action]  \n",
       "3  [Multi-player, PvP, Online PvP, Shared/Split S...  [Action]  \n",
       "4  [Single-player, Multi-player, Valve Anti-Cheat...  [Action]  "
      ]
     },
     "execution_count": 132,
     "metadata": {},
     "output_type": "execute_result"
    }
   ],
   "source": [
    "games_cat_df.head()"
   ]
  },
  {
   "cell_type": "code",
   "execution_count": 133,
   "id": "0a9cf984",
   "metadata": {
    "ExecuteTime": {
     "end_time": "2023-08-05T18:10:57.989902Z",
     "start_time": "2023-08-05T18:10:57.975908Z"
    }
   },
   "outputs": [],
   "source": [
    "#create a fucntion to clean the features by removing spaces and lowercase\n",
    "def clean_data(row):\n",
    "    if isinstance(row, list):\n",
    "        return [str.lower(i.replace(\" \", \"\")) for i in row]\n",
    "    else:\n",
    "        if isinstance(row, str):\n",
    "            return str.lower(row.replace(\" \", \"\"))\n",
    "        else:\n",
    "            return \"\"\n",
    "        \n",
    "features = [\"categories\", \"genres\"]\n",
    "for feature in features:\n",
    "    games_cat_df[feature] = games_cat_df[feature].apply(clean_data)"
   ]
  },
  {
   "cell_type": "code",
   "execution_count": 134,
   "id": "43fabfd8",
   "metadata": {
    "ExecuteTime": {
     "end_time": "2023-08-05T18:10:58.005416Z",
     "start_time": "2023-08-05T18:10:57.990904Z"
    }
   },
   "outputs": [
    {
     "name": "stdout",
     "output_type": "stream",
     "text": [
      "0    multi-player pvp onlinepvp shared/splitscreenp...\n",
      "1    multi-player pvp onlinepvp shared/splitscreenp...\n",
      "2           multi-player valveanti-cheatenabled action\n",
      "3    multi-player pvp onlinepvp shared/splitscreenp...\n",
      "4    single-player multi-player valveanti-cheatenab...\n",
      "Name: soup, dtype: object\n"
     ]
    }
   ],
   "source": [
    "#create a \"soup\" containing all the metadata extracted for vectorizer use\n",
    "def create_soup(features):\n",
    "    return ' '.join(features['categories']) + ' ' + ' '.join(features['genres'])\n",
    "\n",
    "games_cat_df[\"soup\"] = games_cat_df.apply(create_soup, axis=1)\n",
    "print(games_cat_df[\"soup\"].head())"
   ]
  },
  {
   "cell_type": "markdown",
   "id": "624c2d8c",
   "metadata": {},
   "source": [
    "The similarity between games are calculated and used for recommendation using the metadata information collected. The \"soup\" data will be preprocessed and converted into a vectorizer. Then we use cosine similarity score to measure the similiarty between two vectors."
   ]
  },
  {
   "cell_type": "code",
   "execution_count": 135,
   "id": "205de437",
   "metadata": {
    "ExecuteTime": {
     "end_time": "2023-08-05T18:10:58.052010Z",
     "start_time": "2023-08-05T18:10:58.006417Z"
    }
   },
   "outputs": [
    {
     "name": "stdout",
     "output_type": "stream",
     "text": [
      "(990, 129)\n",
      "(990, 990)\n"
     ]
    }
   ],
   "source": [
    "count_vectorizer = CountVectorizer(stop_words=\"english\")\n",
    "count_matrix = count_vectorizer.fit_transform(games_cat_df[\"soup\"])\n",
    "\n",
    "print(count_matrix.shape)\n",
    "\n",
    "cosine_sim2 = cosine_similarity(count_matrix, count_matrix)\n",
    "print(cosine_sim2.shape)\n",
    "\n",
    "games_cat_df = games_cat_df.reset_index()\n",
    "indices = pd.Series(games_cat_df.index, index=games_cat_df['name'])"
   ]
  },
  {
   "cell_type": "code",
   "execution_count": 136,
   "id": "62251e0a",
   "metadata": {
    "ExecuteTime": {
     "end_time": "2023-08-05T18:10:58.067384Z",
     "start_time": "2023-08-05T18:10:58.053011Z"
    }
   },
   "outputs": [
    {
     "name": "stdout",
     "output_type": "stream",
     "text": [
      "name\n",
      "Counter-Strike                     0\n",
      "Team Fortress Classic              1\n",
      "Day of Defeat                      2\n",
      "Deathmatch Classic                 3\n",
      "Half-Life: Opposing Force          4\n",
      "Ricochet                           5\n",
      "Half-Life                          6\n",
      "Counter-Strike: Condition Zero     7\n",
      "Half-Life: Blue Shift              8\n",
      "Half-Life 2                        9\n",
      "Counter-Strike: Source            10\n",
      "Half-Life: Source                 11\n",
      "Day of Defeat: Source             12\n",
      "Half-Life 2: Deathmatch           13\n",
      "Half-Life 2: Lost Coast           14\n",
      "dtype: int64\n"
     ]
    }
   ],
   "source": [
    "#create a reverse mappping of name and index to make searching easier\n",
    "indices = pd.Series(games_cat_df.index, index=games_cat_df['name']).drop_duplicates()\n",
    "print(indices.head())"
   ]
  },
  {
   "cell_type": "markdown",
   "id": "1e4e73ab",
   "metadata": {},
   "source": [
    "get_recommendation function takes the name of a game and the similarity function as input. It will make a recommendation based on the index of games, get a list of similiarty scores, enumerate and sort the tuples in descending order based on similarity score, then get the list of top 10 and return the list"
   ]
  },
  {
   "cell_type": "code",
   "execution_count": 137,
   "id": "a82d4aa2",
   "metadata": {
    "ExecuteTime": {
     "end_time": "2023-08-05T18:10:58.082904Z",
     "start_time": "2023-08-05T18:10:58.068384Z"
    }
   },
   "outputs": [],
   "source": [
    "def get_recommendations(name, cosine_sim=cosine_sim2):\n",
    "    idx = indices[name]\n",
    "    similarity_scores = list(enumerate(cosine_sim[idx]))\n",
    "    similarity_scores = sorted(similarity_scores, key=lambda x:x[1], reverse=True)\n",
    "    similarity_scores = similarity_scores[1:11]\n",
    "    game_indices = [ind[0] for ind in similarity_scores]\n",
    "    games = games_cat_df[\"name\"].iloc[game_indices]\n",
    "    return games"
   ]
  },
  {
   "cell_type": "code",
   "execution_count": 138,
   "id": "4082a8de",
   "metadata": {
    "ExecuteTime": {
     "end_time": "2023-08-05T18:10:58.098403Z",
     "start_time": "2023-08-05T18:10:58.083906Z"
    }
   },
   "outputs": [
    {
     "name": "stdout",
     "output_type": "stream",
     "text": [
      "1                       Team Fortress Classic\n",
      "3                          Deathmatch Classic\n",
      "5                                    Ricochet\n",
      "2                               Day of Defeat\n",
      "15               Half-Life Deathmatch: Source\n",
      "766                    SCP: Secret Laboratory\n",
      "46     STAR WARS™ Jedi Knight - Jedi Academy™\n",
      "6                                   Half-Life\n",
      "31                     The Ship: Murder Party\n",
      "13                    Half-Life 2: Deathmatch\n",
      "Name: name, dtype: object\n"
     ]
    }
   ],
   "source": [
    "print(get_recommendations(\"Counter-Strike\", cosine_sim2))"
   ]
  },
  {
   "cell_type": "code",
   "execution_count": 139,
   "id": "4e6b2586",
   "metadata": {
    "ExecuteTime": {
     "end_time": "2023-08-05T18:10:58.113993Z",
     "start_time": "2023-08-05T18:10:58.099404Z"
    }
   },
   "outputs": [
    {
     "name": "stdout",
     "output_type": "stream",
     "text": [
      "214                Call of Duty®: Black Ops II\n",
      "241                      Call of Duty®: Ghosts\n",
      "388           Dead Rising 3 Apocalypse Edition\n",
      "448                          Ryse: Son of Rome\n",
      "24                                 Alien Swarm\n",
      "167                  Red Faction®: Armageddon™\n",
      "447                        Zombie Army Trilogy\n",
      "21                               Left 4 Dead 2\n",
      "71     Call of Duty®: Modern Warfare® 2 (2009)\n",
      "73                        Aliens vs. Predator™\n",
      "Name: name, dtype: object\n"
     ]
    }
   ],
   "source": [
    "print(get_recommendations(\"Left 4 Dead\", cosine_sim2))"
   ]
  },
  {
   "cell_type": "code",
   "execution_count": 140,
   "id": "1035c4c3",
   "metadata": {
    "ExecuteTime": {
     "end_time": "2023-08-05T18:10:58.129516Z",
     "start_time": "2023-08-05T18:10:58.114994Z"
    }
   },
   "outputs": [
    {
     "name": "stdout",
     "output_type": "stream",
     "text": [
      "34                                    Psychonauts\n",
      "17                                         Portal\n",
      "673                                NieR:Automata™\n",
      "16                       Half-Life 2: Episode One\n",
      "18                       Half-Life 2: Episode Two\n",
      "322    Deus Ex: Human Revolution - Director's Cut\n",
      "169                         Saints Row: The Third\n",
      "549                                          DOOM\n",
      "215                           Hitman: Absolution™\n",
      "875                                   Ghostrunner\n",
      "Name: name, dtype: object\n"
     ]
    }
   ],
   "source": [
    "print(get_recommendations(\"Half-Life 2\", cosine_sim2))"
   ]
  }
 ],
 "metadata": {
  "kernelspec": {
   "display_name": "Python 3 (ipykernel)",
   "language": "python",
   "name": "python3"
  },
  "language_info": {
   "codemirror_mode": {
    "name": "ipython",
    "version": 3
   },
   "file_extension": ".py",
   "mimetype": "text/x-python",
   "name": "python",
   "nbconvert_exporter": "python",
   "pygments_lexer": "ipython3",
   "version": "3.9.7"
  }
 },
 "nbformat": 4,
 "nbformat_minor": 5
}
