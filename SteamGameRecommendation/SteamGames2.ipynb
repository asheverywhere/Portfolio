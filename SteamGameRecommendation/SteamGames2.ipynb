{
 "cells": [
  {
   "cell_type": "markdown",
   "id": "62a6ba16",
   "metadata": {},
   "source": [
    "# 2023 Steam Games Recommendation System"
   ]
  },
  {
   "cell_type": "markdown",
   "id": "6d8a018f",
   "metadata": {},
   "source": [
    "The core of this project lies a comprehensive analysis of various categories, genres, and game descriptions, enabling the precise suggestion of titles that match users' interests and play styles. The project conducts two distinct tests: the first examines similarities between games solely through the analysis of categories and genres, while the second test focuses on finding similarities by thoroughly analyzing detailed game descriptions."
   ]
  },
  {
   "cell_type": "code",
   "execution_count": 240,
   "id": "67f97f56",
   "metadata": {
    "ExecuteTime": {
     "end_time": "2023-08-05T19:38:25.797180Z",
     "start_time": "2023-08-05T19:38:25.779665Z"
    }
   },
   "outputs": [],
   "source": [
    "import os\n",
    "import numpy as np\n",
    "import pandas as pd\n",
    "import re\n",
    "import nltk\n",
    "import matplotlib.pyplot as plt\n",
    "from ast import literal_eval\n",
    "from nltk.stem.snowball import SnowballStemmer\n",
    "from sklearn.pipeline import Pipeline\n",
    "from sklearn.feature_extraction.text import CountVectorizer, TfidfTransformer\n",
    "from sklearn.preprocessing import FunctionTransformer\n",
    "from sklearn.metrics.pairwise import cosine_similarity\n",
    "from scipy.cluster.hierarchy import linkage, dendrogram"
   ]
  },
  {
   "cell_type": "markdown",
   "id": "2211e348",
   "metadata": {},
   "source": [
    "I am utilizing a Kaggle dataset containing games' metadata, including names, descriptions, genres and categories."
   ]
  },
  {
   "cell_type": "code",
   "execution_count": 241,
   "id": "43f56be1",
   "metadata": {
    "ExecuteTime": {
     "end_time": "2023-08-05T19:38:25.983340Z",
     "start_time": "2023-08-05T19:38:25.798682Z"
    }
   },
   "outputs": [
    {
     "data": {
      "text/html": [
       "<div>\n",
       "<style scoped>\n",
       "    .dataframe tbody tr th:only-of-type {\n",
       "        vertical-align: middle;\n",
       "    }\n",
       "\n",
       "    .dataframe tbody tr th {\n",
       "        vertical-align: top;\n",
       "    }\n",
       "\n",
       "    .dataframe thead th {\n",
       "        text-align: right;\n",
       "    }\n",
       "</style>\n",
       "<table border=\"1\" class=\"dataframe\">\n",
       "  <thead>\n",
       "    <tr style=\"text-align: right;\">\n",
       "      <th></th>\n",
       "      <th>type</th>\n",
       "      <th>name</th>\n",
       "      <th>steam_appid</th>\n",
       "      <th>required_age</th>\n",
       "      <th>is_free</th>\n",
       "      <th>controller_support</th>\n",
       "      <th>dlc</th>\n",
       "      <th>detailed_description</th>\n",
       "      <th>about_the_game</th>\n",
       "      <th>short_description</th>\n",
       "      <th>...</th>\n",
       "      <th>categories</th>\n",
       "      <th>genres</th>\n",
       "      <th>screenshots</th>\n",
       "      <th>movies</th>\n",
       "      <th>recommendations</th>\n",
       "      <th>achievements</th>\n",
       "      <th>release_date</th>\n",
       "      <th>support_info</th>\n",
       "      <th>background</th>\n",
       "      <th>content_descriptors</th>\n",
       "    </tr>\n",
       "  </thead>\n",
       "  <tbody>\n",
       "    <tr>\n",
       "      <th>0</th>\n",
       "      <td>game</td>\n",
       "      <td>Counter-Strike</td>\n",
       "      <td>10</td>\n",
       "      <td>0.0</td>\n",
       "      <td>False</td>\n",
       "      <td>NaN</td>\n",
       "      <td>NaN</td>\n",
       "      <td>Play the world's number 1 online action game. ...</td>\n",
       "      <td>Play the world's number 1 online action game. ...</td>\n",
       "      <td>Play the world's number 1 online action game. ...</td>\n",
       "      <td>...</td>\n",
       "      <td>[{'id': 1, 'description': 'Multi-player'}, {'i...</td>\n",
       "      <td>[{'id': '1', 'description': 'Action'}]</td>\n",
       "      <td>[{'id': 0, 'path_thumbnail': 'https://cdn.akam...</td>\n",
       "      <td>NaN</td>\n",
       "      <td>{'total': 137378}</td>\n",
       "      <td>NaN</td>\n",
       "      <td>{'coming_soon': False, 'date': '1 Nov, 2000'}</td>\n",
       "      <td>{'url': 'http://steamcommunity.com/app/10', 'e...</td>\n",
       "      <td>https://cdn.akamai.steamstatic.com/steam/apps/...</td>\n",
       "      <td>{'ids': [2, 5], 'notes': 'Includes intense vio...</td>\n",
       "    </tr>\n",
       "    <tr>\n",
       "      <th>1</th>\n",
       "      <td>game</td>\n",
       "      <td>Team Fortress Classic</td>\n",
       "      <td>20</td>\n",
       "      <td>0.0</td>\n",
       "      <td>False</td>\n",
       "      <td>NaN</td>\n",
       "      <td>NaN</td>\n",
       "      <td>One of the most popular online action games of...</td>\n",
       "      <td>One of the most popular online action games of...</td>\n",
       "      <td>One of the most popular online action games of...</td>\n",
       "      <td>...</td>\n",
       "      <td>[{'id': 1, 'description': 'Multi-player'}, {'i...</td>\n",
       "      <td>[{'id': '1', 'description': 'Action'}]</td>\n",
       "      <td>[{'id': 0, 'path_thumbnail': 'https://cdn.akam...</td>\n",
       "      <td>NaN</td>\n",
       "      <td>{'total': 5474}</td>\n",
       "      <td>NaN</td>\n",
       "      <td>{'coming_soon': False, 'date': '1 Apr, 1999'}</td>\n",
       "      <td>{'url': '', 'email': ''}</td>\n",
       "      <td>https://cdn.akamai.steamstatic.com/steam/apps/...</td>\n",
       "      <td>{'ids': [2, 5], 'notes': 'Includes intense vio...</td>\n",
       "    </tr>\n",
       "    <tr>\n",
       "      <th>2</th>\n",
       "      <td>game</td>\n",
       "      <td>Day of Defeat</td>\n",
       "      <td>30</td>\n",
       "      <td>0.0</td>\n",
       "      <td>False</td>\n",
       "      <td>NaN</td>\n",
       "      <td>NaN</td>\n",
       "      <td>Enlist in an intense brand of Axis vs. Allied ...</td>\n",
       "      <td>Enlist in an intense brand of Axis vs. Allied ...</td>\n",
       "      <td>Enlist in an intense brand of Axis vs. Allied ...</td>\n",
       "      <td>...</td>\n",
       "      <td>[{'id': 1, 'description': 'Multi-player'}, {'i...</td>\n",
       "      <td>[{'id': '1', 'description': 'Action'}]</td>\n",
       "      <td>[{'id': 0, 'path_thumbnail': 'https://cdn.akam...</td>\n",
       "      <td>NaN</td>\n",
       "      <td>{'total': 3694}</td>\n",
       "      <td>NaN</td>\n",
       "      <td>{'coming_soon': False, 'date': '1 May, 2003'}</td>\n",
       "      <td>{'url': '', 'email': ''}</td>\n",
       "      <td>https://cdn.akamai.steamstatic.com/steam/apps/...</td>\n",
       "      <td>{'ids': [], 'notes': None}</td>\n",
       "    </tr>\n",
       "    <tr>\n",
       "      <th>3</th>\n",
       "      <td>game</td>\n",
       "      <td>Deathmatch Classic</td>\n",
       "      <td>40</td>\n",
       "      <td>0.0</td>\n",
       "      <td>False</td>\n",
       "      <td>NaN</td>\n",
       "      <td>NaN</td>\n",
       "      <td>Enjoy fast-paced multiplayer gaming with Death...</td>\n",
       "      <td>Enjoy fast-paced multiplayer gaming with Death...</td>\n",
       "      <td>Enjoy fast-paced multiplayer gaming with Death...</td>\n",
       "      <td>...</td>\n",
       "      <td>[{'id': 1, 'description': 'Multi-player'}, {'i...</td>\n",
       "      <td>[{'id': '1', 'description': 'Action'}]</td>\n",
       "      <td>[{'id': 0, 'path_thumbnail': 'https://cdn.akam...</td>\n",
       "      <td>NaN</td>\n",
       "      <td>{'total': 1924}</td>\n",
       "      <td>NaN</td>\n",
       "      <td>{'coming_soon': False, 'date': '1 Jun, 2001'}</td>\n",
       "      <td>{'url': '', 'email': ''}</td>\n",
       "      <td>https://cdn.akamai.steamstatic.com/steam/apps/...</td>\n",
       "      <td>{'ids': [], 'notes': None}</td>\n",
       "    </tr>\n",
       "    <tr>\n",
       "      <th>4</th>\n",
       "      <td>game</td>\n",
       "      <td>Half-Life: Opposing Force</td>\n",
       "      <td>50</td>\n",
       "      <td>0.0</td>\n",
       "      <td>False</td>\n",
       "      <td>NaN</td>\n",
       "      <td>NaN</td>\n",
       "      <td>Return to the Black Mesa Research Facility as ...</td>\n",
       "      <td>Return to the Black Mesa Research Facility as ...</td>\n",
       "      <td>Return to the Black Mesa Research Facility as ...</td>\n",
       "      <td>...</td>\n",
       "      <td>[{'id': 2, 'description': 'Single-player'}, {'...</td>\n",
       "      <td>[{'id': '1', 'description': 'Action'}]</td>\n",
       "      <td>[{'id': 0, 'path_thumbnail': 'https://cdn.akam...</td>\n",
       "      <td>NaN</td>\n",
       "      <td>{'total': 15478}</td>\n",
       "      <td>NaN</td>\n",
       "      <td>{'coming_soon': False, 'date': '1 Nov, 1999'}</td>\n",
       "      <td>{'url': 'https://help.steampowered.com', 'emai...</td>\n",
       "      <td>https://cdn.akamai.steamstatic.com/steam/apps/...</td>\n",
       "      <td>{'ids': [], 'notes': None}</td>\n",
       "    </tr>\n",
       "  </tbody>\n",
       "</table>\n",
       "<p>5 rows × 39 columns</p>\n",
       "</div>"
      ],
      "text/plain": [
       "   type                       name  steam_appid  required_age is_free  \\\n",
       "0  game             Counter-Strike           10           0.0   False   \n",
       "1  game      Team Fortress Classic           20           0.0   False   \n",
       "2  game              Day of Defeat           30           0.0   False   \n",
       "3  game         Deathmatch Classic           40           0.0   False   \n",
       "4  game  Half-Life: Opposing Force           50           0.0   False   \n",
       "\n",
       "  controller_support  dlc                               detailed_description  \\\n",
       "0                NaN  NaN  Play the world's number 1 online action game. ...   \n",
       "1                NaN  NaN  One of the most popular online action games of...   \n",
       "2                NaN  NaN  Enlist in an intense brand of Axis vs. Allied ...   \n",
       "3                NaN  NaN  Enjoy fast-paced multiplayer gaming with Death...   \n",
       "4                NaN  NaN  Return to the Black Mesa Research Facility as ...   \n",
       "\n",
       "                                      about_the_game  \\\n",
       "0  Play the world's number 1 online action game. ...   \n",
       "1  One of the most popular online action games of...   \n",
       "2  Enlist in an intense brand of Axis vs. Allied ...   \n",
       "3  Enjoy fast-paced multiplayer gaming with Death...   \n",
       "4  Return to the Black Mesa Research Facility as ...   \n",
       "\n",
       "                                   short_description  ...  \\\n",
       "0  Play the world's number 1 online action game. ...  ...   \n",
       "1  One of the most popular online action games of...  ...   \n",
       "2  Enlist in an intense brand of Axis vs. Allied ...  ...   \n",
       "3  Enjoy fast-paced multiplayer gaming with Death...  ...   \n",
       "4  Return to the Black Mesa Research Facility as ...  ...   \n",
       "\n",
       "                                          categories  \\\n",
       "0  [{'id': 1, 'description': 'Multi-player'}, {'i...   \n",
       "1  [{'id': 1, 'description': 'Multi-player'}, {'i...   \n",
       "2  [{'id': 1, 'description': 'Multi-player'}, {'i...   \n",
       "3  [{'id': 1, 'description': 'Multi-player'}, {'i...   \n",
       "4  [{'id': 2, 'description': 'Single-player'}, {'...   \n",
       "\n",
       "                                   genres  \\\n",
       "0  [{'id': '1', 'description': 'Action'}]   \n",
       "1  [{'id': '1', 'description': 'Action'}]   \n",
       "2  [{'id': '1', 'description': 'Action'}]   \n",
       "3  [{'id': '1', 'description': 'Action'}]   \n",
       "4  [{'id': '1', 'description': 'Action'}]   \n",
       "\n",
       "                                         screenshots movies  \\\n",
       "0  [{'id': 0, 'path_thumbnail': 'https://cdn.akam...    NaN   \n",
       "1  [{'id': 0, 'path_thumbnail': 'https://cdn.akam...    NaN   \n",
       "2  [{'id': 0, 'path_thumbnail': 'https://cdn.akam...    NaN   \n",
       "3  [{'id': 0, 'path_thumbnail': 'https://cdn.akam...    NaN   \n",
       "4  [{'id': 0, 'path_thumbnail': 'https://cdn.akam...    NaN   \n",
       "\n",
       "     recommendations achievements  \\\n",
       "0  {'total': 137378}          NaN   \n",
       "1    {'total': 5474}          NaN   \n",
       "2    {'total': 3694}          NaN   \n",
       "3    {'total': 1924}          NaN   \n",
       "4   {'total': 15478}          NaN   \n",
       "\n",
       "                                    release_date  \\\n",
       "0  {'coming_soon': False, 'date': '1 Nov, 2000'}   \n",
       "1  {'coming_soon': False, 'date': '1 Apr, 1999'}   \n",
       "2  {'coming_soon': False, 'date': '1 May, 2003'}   \n",
       "3  {'coming_soon': False, 'date': '1 Jun, 2001'}   \n",
       "4  {'coming_soon': False, 'date': '1 Nov, 1999'}   \n",
       "\n",
       "                                        support_info  \\\n",
       "0  {'url': 'http://steamcommunity.com/app/10', 'e...   \n",
       "1                           {'url': '', 'email': ''}   \n",
       "2                           {'url': '', 'email': ''}   \n",
       "3                           {'url': '', 'email': ''}   \n",
       "4  {'url': 'https://help.steampowered.com', 'emai...   \n",
       "\n",
       "                                          background  \\\n",
       "0  https://cdn.akamai.steamstatic.com/steam/apps/...   \n",
       "1  https://cdn.akamai.steamstatic.com/steam/apps/...   \n",
       "2  https://cdn.akamai.steamstatic.com/steam/apps/...   \n",
       "3  https://cdn.akamai.steamstatic.com/steam/apps/...   \n",
       "4  https://cdn.akamai.steamstatic.com/steam/apps/...   \n",
       "\n",
       "                                 content_descriptors  \n",
       "0  {'ids': [2, 5], 'notes': 'Includes intense vio...  \n",
       "1  {'ids': [2, 5], 'notes': 'Includes intense vio...  \n",
       "2                         {'ids': [], 'notes': None}  \n",
       "3                         {'ids': [], 'notes': None}  \n",
       "4                         {'ids': [], 'notes': None}  \n",
       "\n",
       "[5 rows x 39 columns]"
      ]
     },
     "execution_count": 241,
     "metadata": {},
     "output_type": "execute_result"
    }
   ],
   "source": [
    "games_df = pd.read_csv('steam_app_data.csv')\n",
    "games_df.head()"
   ]
  },
  {
   "cell_type": "code",
   "execution_count": 242,
   "id": "4428f8eb",
   "metadata": {
    "ExecuteTime": {
     "end_time": "2023-08-05T19:38:25.998853Z",
     "start_time": "2023-08-05T19:38:25.984841Z"
    }
   },
   "outputs": [
    {
     "data": {
      "text/html": [
       "<div>\n",
       "<style scoped>\n",
       "    .dataframe tbody tr th:only-of-type {\n",
       "        vertical-align: middle;\n",
       "    }\n",
       "\n",
       "    .dataframe tbody tr th {\n",
       "        vertical-align: top;\n",
       "    }\n",
       "\n",
       "    .dataframe thead th {\n",
       "        text-align: right;\n",
       "    }\n",
       "</style>\n",
       "<table border=\"1\" class=\"dataframe\">\n",
       "  <thead>\n",
       "    <tr style=\"text-align: right;\">\n",
       "      <th></th>\n",
       "      <th>name</th>\n",
       "      <th>categories</th>\n",
       "      <th>genres</th>\n",
       "    </tr>\n",
       "  </thead>\n",
       "  <tbody>\n",
       "    <tr>\n",
       "      <th>0</th>\n",
       "      <td>Counter-Strike</td>\n",
       "      <td>[{'id': 1, 'description': 'Multi-player'}, {'i...</td>\n",
       "      <td>[{'id': '1', 'description': 'Action'}]</td>\n",
       "    </tr>\n",
       "    <tr>\n",
       "      <th>1</th>\n",
       "      <td>Team Fortress Classic</td>\n",
       "      <td>[{'id': 1, 'description': 'Multi-player'}, {'i...</td>\n",
       "      <td>[{'id': '1', 'description': 'Action'}]</td>\n",
       "    </tr>\n",
       "    <tr>\n",
       "      <th>2</th>\n",
       "      <td>Day of Defeat</td>\n",
       "      <td>[{'id': 1, 'description': 'Multi-player'}, {'i...</td>\n",
       "      <td>[{'id': '1', 'description': 'Action'}]</td>\n",
       "    </tr>\n",
       "    <tr>\n",
       "      <th>3</th>\n",
       "      <td>Deathmatch Classic</td>\n",
       "      <td>[{'id': 1, 'description': 'Multi-player'}, {'i...</td>\n",
       "      <td>[{'id': '1', 'description': 'Action'}]</td>\n",
       "    </tr>\n",
       "    <tr>\n",
       "      <th>4</th>\n",
       "      <td>Half-Life: Opposing Force</td>\n",
       "      <td>[{'id': 2, 'description': 'Single-player'}, {'...</td>\n",
       "      <td>[{'id': '1', 'description': 'Action'}]</td>\n",
       "    </tr>\n",
       "  </tbody>\n",
       "</table>\n",
       "</div>"
      ],
      "text/plain": [
       "                        name  \\\n",
       "0             Counter-Strike   \n",
       "1      Team Fortress Classic   \n",
       "2              Day of Defeat   \n",
       "3         Deathmatch Classic   \n",
       "4  Half-Life: Opposing Force   \n",
       "\n",
       "                                          categories  \\\n",
       "0  [{'id': 1, 'description': 'Multi-player'}, {'i...   \n",
       "1  [{'id': 1, 'description': 'Multi-player'}, {'i...   \n",
       "2  [{'id': 1, 'description': 'Multi-player'}, {'i...   \n",
       "3  [{'id': 1, 'description': 'Multi-player'}, {'i...   \n",
       "4  [{'id': 2, 'description': 'Single-player'}, {'...   \n",
       "\n",
       "                                   genres  \n",
       "0  [{'id': '1', 'description': 'Action'}]  \n",
       "1  [{'id': '1', 'description': 'Action'}]  \n",
       "2  [{'id': '1', 'description': 'Action'}]  \n",
       "3  [{'id': '1', 'description': 'Action'}]  \n",
       "4  [{'id': '1', 'description': 'Action'}]  "
      ]
     },
     "execution_count": 242,
     "metadata": {},
     "output_type": "execute_result"
    }
   ],
   "source": [
    "#create a smaller dataframe focused only on name, categories and genres columns.\n",
    "games_cat_df = games_df[['name','categories', 'genres']]\n",
    "games_cat_df.head()"
   ]
  },
  {
   "cell_type": "code",
   "execution_count": 243,
   "id": "5f3ac1b9",
   "metadata": {
    "ExecuteTime": {
     "end_time": "2023-08-05T19:38:26.014367Z",
     "start_time": "2023-08-05T19:38:26.000855Z"
    }
   },
   "outputs": [
    {
     "data": {
      "text/plain": [
       "name          0\n",
       "categories    8\n",
       "genres        8\n",
       "dtype: int64"
      ]
     },
     "execution_count": 243,
     "metadata": {},
     "output_type": "execute_result"
    }
   ],
   "source": [
    "#check for null values\n",
    "games_cat_df.isnull().sum()"
   ]
  },
  {
   "cell_type": "code",
   "execution_count": 244,
   "id": "5afaf817",
   "metadata": {
    "ExecuteTime": {
     "end_time": "2023-08-05T19:38:26.029880Z",
     "start_time": "2023-08-05T19:38:26.015868Z"
    }
   },
   "outputs": [],
   "source": [
    "#drop any null values\n",
    "games_cat_df = games_cat_df.dropna()"
   ]
  },
  {
   "cell_type": "code",
   "execution_count": 245,
   "id": "28c7e717",
   "metadata": {
    "ExecuteTime": {
     "end_time": "2023-08-05T19:38:26.045093Z",
     "start_time": "2023-08-05T19:38:26.031382Z"
    }
   },
   "outputs": [
    {
     "data": {
      "text/plain": [
       "name          0\n",
       "categories    0\n",
       "genres        0\n",
       "dtype: int64"
      ]
     },
     "execution_count": 245,
     "metadata": {},
     "output_type": "execute_result"
    }
   ],
   "source": [
    "#check if all null values are gone\n",
    "games_cat_df.isnull().sum()"
   ]
  },
  {
   "cell_type": "markdown",
   "id": "3001ef2c",
   "metadata": {},
   "source": [
    "I am utilizing features to personalize the recommendation: categories, genres. The data is present in a list of strings, so  am utilizing literal_eval function to convert the data into a safe and usable structure."
   ]
  },
  {
   "cell_type": "code",
   "execution_count": 246,
   "id": "8a8cec68",
   "metadata": {
    "ExecuteTime": {
     "end_time": "2023-08-05T19:38:26.153682Z",
     "start_time": "2023-08-05T19:38:26.046094Z"
    }
   },
   "outputs": [
    {
     "data": {
      "text/html": [
       "<div>\n",
       "<style scoped>\n",
       "    .dataframe tbody tr th:only-of-type {\n",
       "        vertical-align: middle;\n",
       "    }\n",
       "\n",
       "    .dataframe tbody tr th {\n",
       "        vertical-align: top;\n",
       "    }\n",
       "\n",
       "    .dataframe thead th {\n",
       "        text-align: right;\n",
       "    }\n",
       "</style>\n",
       "<table border=\"1\" class=\"dataframe\">\n",
       "  <thead>\n",
       "    <tr style=\"text-align: right;\">\n",
       "      <th></th>\n",
       "      <th>categories</th>\n",
       "      <th>genres</th>\n",
       "    </tr>\n",
       "  </thead>\n",
       "  <tbody>\n",
       "    <tr>\n",
       "      <th>0</th>\n",
       "      <td>[{'id': 1, 'description': 'Multi-player'}, {'i...</td>\n",
       "      <td>[{'id': '1', 'description': 'Action'}]</td>\n",
       "    </tr>\n",
       "    <tr>\n",
       "      <th>1</th>\n",
       "      <td>[{'id': 1, 'description': 'Multi-player'}, {'i...</td>\n",
       "      <td>[{'id': '1', 'description': 'Action'}]</td>\n",
       "    </tr>\n",
       "    <tr>\n",
       "      <th>2</th>\n",
       "      <td>[{'id': 1, 'description': 'Multi-player'}, {'i...</td>\n",
       "      <td>[{'id': '1', 'description': 'Action'}]</td>\n",
       "    </tr>\n",
       "    <tr>\n",
       "      <th>3</th>\n",
       "      <td>[{'id': 1, 'description': 'Multi-player'}, {'i...</td>\n",
       "      <td>[{'id': '1', 'description': 'Action'}]</td>\n",
       "    </tr>\n",
       "    <tr>\n",
       "      <th>4</th>\n",
       "      <td>[{'id': 2, 'description': 'Single-player'}, {'...</td>\n",
       "      <td>[{'id': '1', 'description': 'Action'}]</td>\n",
       "    </tr>\n",
       "  </tbody>\n",
       "</table>\n",
       "</div>"
      ],
      "text/plain": [
       "                                          categories  \\\n",
       "0  [{'id': 1, 'description': 'Multi-player'}, {'i...   \n",
       "1  [{'id': 1, 'description': 'Multi-player'}, {'i...   \n",
       "2  [{'id': 1, 'description': 'Multi-player'}, {'i...   \n",
       "3  [{'id': 1, 'description': 'Multi-player'}, {'i...   \n",
       "4  [{'id': 2, 'description': 'Single-player'}, {'...   \n",
       "\n",
       "                                   genres  \n",
       "0  [{'id': '1', 'description': 'Action'}]  \n",
       "1  [{'id': '1', 'description': 'Action'}]  \n",
       "2  [{'id': '1', 'description': 'Action'}]  \n",
       "3  [{'id': '1', 'description': 'Action'}]  \n",
       "4  [{'id': '1', 'description': 'Action'}]  "
      ]
     },
     "execution_count": 246,
     "metadata": {},
     "output_type": "execute_result"
    }
   ],
   "source": [
    "features = [\"categories\", \"genres\"]\n",
    "for feature in features:\n",
    "    games_cat_df[feature] = games_cat_df[feature].apply(literal_eval)\n",
    "games_cat_df[features].head()"
   ]
  },
  {
   "cell_type": "code",
   "execution_count": 247,
   "id": "16fdace2",
   "metadata": {
    "ExecuteTime": {
     "end_time": "2023-08-05T19:38:26.169162Z",
     "start_time": "2023-08-05T19:38:26.154682Z"
    }
   },
   "outputs": [],
   "source": [
    "#create a get list function to extract the string data from the features. Takes up to 15 elements (can be changed)\n",
    "def get_list(x):\n",
    "    if isinstance(x, list):\n",
    "        tags = [i[\"description\"] for i in x]\n",
    "        if len(tags) > 15:\n",
    "            tags = tags[:15]\n",
    "        return tags\n",
    "    return []"
   ]
  },
  {
   "cell_type": "code",
   "execution_count": 248,
   "id": "c266f828",
   "metadata": {
    "ExecuteTime": {
     "end_time": "2023-08-05T19:38:26.184346Z",
     "start_time": "2023-08-05T19:38:26.170663Z"
    }
   },
   "outputs": [],
   "source": [
    "features = [\"categories\", \"genres\"]\n",
    "for feature in features:\n",
    "    games_cat_df[feature] = games_cat_df[feature].apply(get_list)"
   ]
  },
  {
   "cell_type": "code",
   "execution_count": 249,
   "id": "14e0a1e8",
   "metadata": {
    "ExecuteTime": {
     "end_time": "2023-08-05T19:38:26.199774Z",
     "start_time": "2023-08-05T19:38:26.186348Z"
    }
   },
   "outputs": [
    {
     "data": {
      "text/html": [
       "<div>\n",
       "<style scoped>\n",
       "    .dataframe tbody tr th:only-of-type {\n",
       "        vertical-align: middle;\n",
       "    }\n",
       "\n",
       "    .dataframe tbody tr th {\n",
       "        vertical-align: top;\n",
       "    }\n",
       "\n",
       "    .dataframe thead th {\n",
       "        text-align: right;\n",
       "    }\n",
       "</style>\n",
       "<table border=\"1\" class=\"dataframe\">\n",
       "  <thead>\n",
       "    <tr style=\"text-align: right;\">\n",
       "      <th></th>\n",
       "      <th>name</th>\n",
       "      <th>categories</th>\n",
       "      <th>genres</th>\n",
       "    </tr>\n",
       "  </thead>\n",
       "  <tbody>\n",
       "    <tr>\n",
       "      <th>0</th>\n",
       "      <td>Counter-Strike</td>\n",
       "      <td>[Multi-player, PvP, Online PvP, Shared/Split S...</td>\n",
       "      <td>[Action]</td>\n",
       "    </tr>\n",
       "    <tr>\n",
       "      <th>1</th>\n",
       "      <td>Team Fortress Classic</td>\n",
       "      <td>[Multi-player, PvP, Online PvP, Shared/Split S...</td>\n",
       "      <td>[Action]</td>\n",
       "    </tr>\n",
       "    <tr>\n",
       "      <th>2</th>\n",
       "      <td>Day of Defeat</td>\n",
       "      <td>[Multi-player, Valve Anti-Cheat enabled]</td>\n",
       "      <td>[Action]</td>\n",
       "    </tr>\n",
       "    <tr>\n",
       "      <th>3</th>\n",
       "      <td>Deathmatch Classic</td>\n",
       "      <td>[Multi-player, PvP, Online PvP, Shared/Split S...</td>\n",
       "      <td>[Action]</td>\n",
       "    </tr>\n",
       "    <tr>\n",
       "      <th>4</th>\n",
       "      <td>Half-Life: Opposing Force</td>\n",
       "      <td>[Single-player, Multi-player, Valve Anti-Cheat...</td>\n",
       "      <td>[Action]</td>\n",
       "    </tr>\n",
       "  </tbody>\n",
       "</table>\n",
       "</div>"
      ],
      "text/plain": [
       "                        name  \\\n",
       "0             Counter-Strike   \n",
       "1      Team Fortress Classic   \n",
       "2              Day of Defeat   \n",
       "3         Deathmatch Classic   \n",
       "4  Half-Life: Opposing Force   \n",
       "\n",
       "                                          categories    genres  \n",
       "0  [Multi-player, PvP, Online PvP, Shared/Split S...  [Action]  \n",
       "1  [Multi-player, PvP, Online PvP, Shared/Split S...  [Action]  \n",
       "2           [Multi-player, Valve Anti-Cheat enabled]  [Action]  \n",
       "3  [Multi-player, PvP, Online PvP, Shared/Split S...  [Action]  \n",
       "4  [Single-player, Multi-player, Valve Anti-Cheat...  [Action]  "
      ]
     },
     "execution_count": 249,
     "metadata": {},
     "output_type": "execute_result"
    }
   ],
   "source": [
    "games_cat_df.head()"
   ]
  },
  {
   "cell_type": "code",
   "execution_count": 250,
   "id": "0a9cf984",
   "metadata": {
    "ExecuteTime": {
     "end_time": "2023-08-05T19:38:26.215131Z",
     "start_time": "2023-08-05T19:38:26.200776Z"
    }
   },
   "outputs": [],
   "source": [
    "#create a fucntion to clean the features by removing spaces and lowercase\n",
    "def clean_data(row):\n",
    "    if isinstance(row, list):\n",
    "        return [str.lower(i.replace(\" \", \"\")) for i in row]\n",
    "    else:\n",
    "        if isinstance(row, str):\n",
    "            return str.lower(row.replace(\" \", \"\"))\n",
    "        else:\n",
    "            return \"\"\n",
    "        \n",
    "features = [\"categories\", \"genres\"]\n",
    "for feature in features:\n",
    "    games_cat_df[feature] = games_cat_df[feature].apply(clean_data)"
   ]
  },
  {
   "cell_type": "code",
   "execution_count": 251,
   "id": "43fabfd8",
   "metadata": {
    "ExecuteTime": {
     "end_time": "2023-08-05T19:38:26.230312Z",
     "start_time": "2023-08-05T19:38:26.216300Z"
    }
   },
   "outputs": [
    {
     "name": "stdout",
     "output_type": "stream",
     "text": [
      "0    multi-player pvp onlinepvp shared/splitscreenp...\n",
      "1    multi-player pvp onlinepvp shared/splitscreenp...\n",
      "2           multi-player valveanti-cheatenabled action\n",
      "3    multi-player pvp onlinepvp shared/splitscreenp...\n",
      "4    single-player multi-player valveanti-cheatenab...\n",
      "Name: soup, dtype: object\n"
     ]
    }
   ],
   "source": [
    "#create a \"soup\" containing all the metadata extracted for vectorizer use\n",
    "def create_soup(features):\n",
    "    return ' '.join(features['categories']) + ' ' + ' '.join(features['genres'])\n",
    "\n",
    "games_cat_df[\"soup\"] = games_cat_df.apply(create_soup, axis=1)\n",
    "print(games_cat_df[\"soup\"].head())"
   ]
  },
  {
   "cell_type": "markdown",
   "id": "624c2d8c",
   "metadata": {},
   "source": [
    "The similarity between games are calculated and used for recommendation using the metadata information collected. The \"soup\" data will be preprocessed and converted into a vectorizer. Then we use cosine similarity score to measure the similiarty between two vectors."
   ]
  },
  {
   "cell_type": "code",
   "execution_count": 252,
   "id": "205de437",
   "metadata": {
    "ExecuteTime": {
     "end_time": "2023-08-05T19:38:26.276679Z",
     "start_time": "2023-08-05T19:38:26.231312Z"
    }
   },
   "outputs": [
    {
     "name": "stdout",
     "output_type": "stream",
     "text": [
      "(990, 129)\n",
      "(990, 990)\n"
     ]
    }
   ],
   "source": [
    "count_vectorizer = CountVectorizer(stop_words=\"english\")\n",
    "count_matrix = count_vectorizer.fit_transform(games_cat_df[\"soup\"])\n",
    "\n",
    "print(count_matrix.shape)\n",
    "\n",
    "cosine_sim2 = cosine_similarity(count_matrix, count_matrix)\n",
    "print(cosine_sim2.shape)\n",
    "\n",
    "games_cat_df = games_cat_df.reset_index()\n",
    "indices = pd.Series(games_cat_df.index, index=games_cat_df['name'])"
   ]
  },
  {
   "cell_type": "code",
   "execution_count": 253,
   "id": "62251e0a",
   "metadata": {
    "ExecuteTime": {
     "end_time": "2023-08-05T19:38:26.292186Z",
     "start_time": "2023-08-05T19:38:26.277680Z"
    }
   },
   "outputs": [
    {
     "name": "stdout",
     "output_type": "stream",
     "text": [
      "name\n",
      "Counter-Strike               0\n",
      "Team Fortress Classic        1\n",
      "Day of Defeat                2\n",
      "Deathmatch Classic           3\n",
      "Half-Life: Opposing Force    4\n",
      "dtype: int64\n"
     ]
    }
   ],
   "source": [
    "#create a reverse mappping of name and index to make searching easier\n",
    "indices = pd.Series(games_cat_df.index, index=games_cat_df['name']).drop_duplicates()\n",
    "print(indices.head())"
   ]
  },
  {
   "cell_type": "markdown",
   "id": "1e4e73ab",
   "metadata": {},
   "source": [
    "get_recommendation function takes the name of a game and the similarity function as input. It will make a recommendation based on the index of games, get a list of similiarty scores, enumerate and sort the tuples in descending order based on similarity score, then get the list of top 10 and return the list"
   ]
  },
  {
   "cell_type": "code",
   "execution_count": 254,
   "id": "a82d4aa2",
   "metadata": {
    "ExecuteTime": {
     "end_time": "2023-08-05T19:38:26.307449Z",
     "start_time": "2023-08-05T19:38:26.293187Z"
    }
   },
   "outputs": [],
   "source": [
    "def get_recommendations(name, cosine_sim=cosine_sim2):\n",
    "    idx = indices[name]\n",
    "    similarity_scores = list(enumerate(cosine_sim[idx]))\n",
    "    similarity_scores = sorted(similarity_scores, key=lambda x:x[1], reverse=True)\n",
    "    similarity_scores = similarity_scores[1:11]\n",
    "    game_indices = [ind[0] for ind in similarity_scores]\n",
    "    games = games_cat_df[\"name\"].iloc[game_indices]\n",
    "    return games"
   ]
  },
  {
   "cell_type": "code",
   "execution_count": 255,
   "id": "4082a8de",
   "metadata": {
    "ExecuteTime": {
     "end_time": "2023-08-05T19:38:26.322965Z",
     "start_time": "2023-08-05T19:38:26.308451Z"
    }
   },
   "outputs": [
    {
     "name": "stdout",
     "output_type": "stream",
     "text": [
      "1                       Team Fortress Classic\n",
      "3                          Deathmatch Classic\n",
      "5                                    Ricochet\n",
      "2                               Day of Defeat\n",
      "15               Half-Life Deathmatch: Source\n",
      "766                    SCP: Secret Laboratory\n",
      "46     STAR WARS™ Jedi Knight - Jedi Academy™\n",
      "6                                   Half-Life\n",
      "31                     The Ship: Murder Party\n",
      "13                    Half-Life 2: Deathmatch\n",
      "Name: name, dtype: object\n"
     ]
    }
   ],
   "source": [
    "print(get_recommendations(\"Counter-Strike\", cosine_sim2))"
   ]
  },
  {
   "cell_type": "code",
   "execution_count": 256,
   "id": "1035c4c3",
   "metadata": {
    "ExecuteTime": {
     "end_time": "2023-08-05T19:38:26.338371Z",
     "start_time": "2023-08-05T19:38:26.324465Z"
    }
   },
   "outputs": [
    {
     "name": "stdout",
     "output_type": "stream",
     "text": [
      "114          Burnout Paradise: The Ultimate Box\n",
      "632                                      Steep™\n",
      "247                  RaceRoom Racing Experience\n",
      "47     Star Wars: Battlefront 2 (Classic, 2005)\n",
      "644                      Heaven Forest - VR MMO\n",
      "906                  STAR WARS™ Battlefront™ II\n",
      "909                              Battlefield™ V\n",
      "790                                DOOM Eternal\n",
      "120        STAR WARS™ Empire at War - Gold Pack\n",
      "153                               Dead Space™ 2\n",
      "Name: name, dtype: object\n"
     ]
    }
   ],
   "source": [
    "print(get_recommendations(\"Need For Speed: Hot Pursuit\", cosine_sim2))"
   ]
  },
  {
   "cell_type": "code",
   "execution_count": 257,
   "id": "a469d8f5",
   "metadata": {
    "ExecuteTime": {
     "end_time": "2023-08-05T19:38:26.353557Z",
     "start_time": "2023-08-05T19:38:26.339372Z"
    }
   },
   "outputs": [
    {
     "name": "stdout",
     "output_type": "stream",
     "text": [
      "404                               Broforce\n",
      "772                          Overcooked! 2\n",
      "738    The LEGO® NINJAGO® Movie Video Game\n",
      "753                          Farm Together\n",
      "333                               Spelunky\n",
      "431                             Brawlhalla\n",
      "603                     Lost Castle / 失落城堡\n",
      "675                           For The King\n",
      "873                RISK: Global Domination\n",
      "623                             Overcooked\n",
      "Name: name, dtype: object\n"
     ]
    }
   ],
   "source": [
    "print(get_recommendations(\"UNO\", cosine_sim2))"
   ]
  },
  {
   "cell_type": "markdown",
   "id": "2e5db57e",
   "metadata": {},
   "source": [
    "The second test will be to find similarities between games only by the detailed description"
   ]
  },
  {
   "cell_type": "code",
   "execution_count": 258,
   "id": "2444d1f8",
   "metadata": {
    "ExecuteTime": {
     "end_time": "2023-08-05T19:38:26.369070Z",
     "start_time": "2023-08-05T19:38:26.354557Z"
    },
    "scrolled": true
   },
   "outputs": [
    {
     "data": {
      "text/html": [
       "<div>\n",
       "<style scoped>\n",
       "    .dataframe tbody tr th:only-of-type {\n",
       "        vertical-align: middle;\n",
       "    }\n",
       "\n",
       "    .dataframe tbody tr th {\n",
       "        vertical-align: top;\n",
       "    }\n",
       "\n",
       "    .dataframe thead th {\n",
       "        text-align: right;\n",
       "    }\n",
       "</style>\n",
       "<table border=\"1\" class=\"dataframe\">\n",
       "  <thead>\n",
       "    <tr style=\"text-align: right;\">\n",
       "      <th></th>\n",
       "      <th>name</th>\n",
       "      <th>detailed_description</th>\n",
       "    </tr>\n",
       "  </thead>\n",
       "  <tbody>\n",
       "    <tr>\n",
       "      <th>0</th>\n",
       "      <td>Counter-Strike</td>\n",
       "      <td>Play the world's number 1 online action game. ...</td>\n",
       "    </tr>\n",
       "    <tr>\n",
       "      <th>1</th>\n",
       "      <td>Team Fortress Classic</td>\n",
       "      <td>One of the most popular online action games of...</td>\n",
       "    </tr>\n",
       "    <tr>\n",
       "      <th>2</th>\n",
       "      <td>Day of Defeat</td>\n",
       "      <td>Enlist in an intense brand of Axis vs. Allied ...</td>\n",
       "    </tr>\n",
       "    <tr>\n",
       "      <th>3</th>\n",
       "      <td>Deathmatch Classic</td>\n",
       "      <td>Enjoy fast-paced multiplayer gaming with Death...</td>\n",
       "    </tr>\n",
       "    <tr>\n",
       "      <th>4</th>\n",
       "      <td>Half-Life: Opposing Force</td>\n",
       "      <td>Return to the Black Mesa Research Facility as ...</td>\n",
       "    </tr>\n",
       "  </tbody>\n",
       "</table>\n",
       "</div>"
      ],
      "text/plain": [
       "                        name  \\\n",
       "0             Counter-Strike   \n",
       "1      Team Fortress Classic   \n",
       "2              Day of Defeat   \n",
       "3         Deathmatch Classic   \n",
       "4  Half-Life: Opposing Force   \n",
       "\n",
       "                                detailed_description  \n",
       "0  Play the world's number 1 online action game. ...  \n",
       "1  One of the most popular online action games of...  \n",
       "2  Enlist in an intense brand of Axis vs. Allied ...  \n",
       "3  Enjoy fast-paced multiplayer gaming with Death...  \n",
       "4  Return to the Black Mesa Research Facility as ...  "
      ]
     },
     "execution_count": 258,
     "metadata": {},
     "output_type": "execute_result"
    }
   ],
   "source": [
    "#create new dataframe with only name and detailed_description\n",
    "games_desc_df = game_df[['name', 'detailed_description']]\n",
    "games_desc_df.head()"
   ]
  },
  {
   "cell_type": "code",
   "execution_count": 259,
   "id": "4736b1da",
   "metadata": {
    "ExecuteTime": {
     "end_time": "2023-08-05T19:38:26.384349Z",
     "start_time": "2023-08-05T19:38:26.370070Z"
    }
   },
   "outputs": [
    {
     "data": {
      "text/plain": [
       "name                    0\n",
       "detailed_description    6\n",
       "dtype: int64"
      ]
     },
     "execution_count": 259,
     "metadata": {},
     "output_type": "execute_result"
    }
   ],
   "source": [
    "#check for nulls and drop if there's any\n",
    "games_desc_df.isnull().sum()"
   ]
  },
  {
   "cell_type": "code",
   "execution_count": 260,
   "id": "61656645",
   "metadata": {
    "ExecuteTime": {
     "end_time": "2023-08-05T19:38:26.399667Z",
     "start_time": "2023-08-05T19:38:26.385353Z"
    }
   },
   "outputs": [
    {
     "data": {
      "text/plain": [
       "name                    0\n",
       "detailed_description    0\n",
       "dtype: int64"
      ]
     },
     "execution_count": 260,
     "metadata": {},
     "output_type": "execute_result"
    }
   ],
   "source": [
    "games_desc_df = games_desc_df.dropna()\n",
    "games_desc_df.isnull().sum()"
   ]
  },
  {
   "cell_type": "code",
   "execution_count": 261,
   "id": "42a53c1f",
   "metadata": {
    "ExecuteTime": {
     "end_time": "2023-08-05T19:38:26.415182Z",
     "start_time": "2023-08-05T19:38:26.400668Z"
    }
   },
   "outputs": [
    {
     "data": {
      "text/html": [
       "<div>\n",
       "<style scoped>\n",
       "    .dataframe tbody tr th:only-of-type {\n",
       "        vertical-align: middle;\n",
       "    }\n",
       "\n",
       "    .dataframe tbody tr th {\n",
       "        vertical-align: top;\n",
       "    }\n",
       "\n",
       "    .dataframe thead th {\n",
       "        text-align: right;\n",
       "    }\n",
       "</style>\n",
       "<table border=\"1\" class=\"dataframe\">\n",
       "  <thead>\n",
       "    <tr style=\"text-align: right;\">\n",
       "      <th></th>\n",
       "      <th>name</th>\n",
       "      <th>detailed_description</th>\n",
       "    </tr>\n",
       "  </thead>\n",
       "  <tbody>\n",
       "    <tr>\n",
       "      <th>0</th>\n",
       "      <td>Counter-Strike</td>\n",
       "      <td>Play the world's number 1 online action game. ...</td>\n",
       "    </tr>\n",
       "    <tr>\n",
       "      <th>1</th>\n",
       "      <td>Team Fortress Classic</td>\n",
       "      <td>One of the most popular online action games of...</td>\n",
       "    </tr>\n",
       "    <tr>\n",
       "      <th>2</th>\n",
       "      <td>Day of Defeat</td>\n",
       "      <td>Enlist in an intense brand of Axis vs. Allied ...</td>\n",
       "    </tr>\n",
       "    <tr>\n",
       "      <th>3</th>\n",
       "      <td>Deathmatch Classic</td>\n",
       "      <td>Enjoy fast-paced multiplayer gaming with Death...</td>\n",
       "    </tr>\n",
       "    <tr>\n",
       "      <th>4</th>\n",
       "      <td>Half-Life: Opposing Force</td>\n",
       "      <td>Return to the Black Mesa Research Facility as ...</td>\n",
       "    </tr>\n",
       "  </tbody>\n",
       "</table>\n",
       "</div>"
      ],
      "text/plain": [
       "                        name  \\\n",
       "0             Counter-Strike   \n",
       "1      Team Fortress Classic   \n",
       "2              Day of Defeat   \n",
       "3         Deathmatch Classic   \n",
       "4  Half-Life: Opposing Force   \n",
       "\n",
       "                                detailed_description  \n",
       "0  Play the world's number 1 online action game. ...  \n",
       "1  One of the most popular online action games of...  \n",
       "2  Enlist in an intense brand of Axis vs. Allied ...  \n",
       "3  Enjoy fast-paced multiplayer gaming with Death...  \n",
       "4  Return to the Black Mesa Research Facility as ...  "
      ]
     },
     "execution_count": 261,
     "metadata": {},
     "output_type": "execute_result"
    }
   ],
   "source": [
    "games_desc_df.head()"
   ]
  },
  {
   "cell_type": "code",
   "execution_count": 262,
   "id": "a0f6f361",
   "metadata": {
    "ExecuteTime": {
     "end_time": "2023-08-05T19:38:26.430711Z",
     "start_time": "2023-08-05T19:38:26.416182Z"
    }
   },
   "outputs": [],
   "source": [
    "#Create a normalized function to normalize the words in description\n",
    "stemmer = SnowballStemmer(\"english\", ignore_stopwords=False)\n",
    "def normalized(X):\n",
    "    normalized = []\n",
    "    for x in X:\n",
    "        words = nltk.word_tokenize(x)\n",
    "        words = [word.lower() for word in words]\n",
    "        normalized.append(' '.join([stemmer.stem(word) for word in words if re.match('[a-zA-Z]+', word)]))\n",
    "    return normalized"
   ]
  },
  {
   "cell_type": "code",
   "execution_count": 263,
   "id": "e1b0396a",
   "metadata": {
    "ExecuteTime": {
     "end_time": "2023-08-05T19:38:33.597690Z",
     "start_time": "2023-08-05T19:38:26.431712Z"
    }
   },
   "outputs": [],
   "source": [
    "#create a tfidf matrix of the normalized token/word\n",
    "pipe = Pipeline([\n",
    "    ('normalize', FunctionTransformer(normalized, validate=False)),\n",
    "    ('counter_vectorizer', CountVectorizer(\n",
    "        max_df=0.8, max_features=20000,\n",
    "        min_df=0.2, stop_words='english',\n",
    "        ngram_range=(1,3)\n",
    "    )),\n",
    "    ('tfidf_transform', TfidfTransformer())\n",
    "])\n",
    "\n",
    "tfidf_matrix = pipe.fit_transform([x for x in games_desc_df['detailed_description']])"
   ]
  },
  {
   "cell_type": "code",
   "execution_count": 264,
   "id": "9ac17ec7",
   "metadata": {
    "ExecuteTime": {
     "end_time": "2023-08-05T19:38:33.643736Z",
     "start_time": "2023-08-05T19:38:33.598370Z"
    }
   },
   "outputs": [],
   "source": [
    "similarity_distance = 1 - cosine_similarity(tfidf_matrix)"
   ]
  },
  {
   "cell_type": "code",
   "execution_count": 265,
   "id": "2f167fae",
   "metadata": {
    "ExecuteTime": {
     "end_time": "2023-08-05T19:38:33.659147Z",
     "start_time": "2023-08-05T19:38:33.644737Z"
    }
   },
   "outputs": [],
   "source": [
    "#create function to find similar games\n",
    "def find_similar(name):\n",
    "    index = games_desc_df[games_desc_df['name'] == name].index[0]\n",
    "    similarity_score = list(enumerate(similarity_distance[index]))\n",
    "    similarity_score = sorted(similarity_score, key=lambda x:x[1], reverse=True)\n",
    "    similarity_score = similarity_score[1:11]\n",
    "    game_index = [ind[0] for ind in similarity_score] \n",
    "    most_similar = games_desc_df.iloc[game_index, 0]\n",
    "    return most_similar"
   ]
  },
  {
   "cell_type": "code",
   "execution_count": 269,
   "id": "bed15ec7",
   "metadata": {
    "ExecuteTime": {
     "end_time": "2023-08-05T19:40:25.681373Z",
     "start_time": "2023-08-05T19:40:25.671865Z"
    }
   },
   "outputs": [
    {
     "name": "stdout",
     "output_type": "stream",
     "text": [
      "Recommendation Based on Categories/Genres\n",
      "1                       Team Fortress Classic\n",
      "3                          Deathmatch Classic\n",
      "5                                    Ricochet\n",
      "2                               Day of Defeat\n",
      "15               Half-Life Deathmatch: Source\n",
      "766                    SCP: Secret Laboratory\n",
      "46     STAR WARS™ Jedi Knight - Jedi Academy™\n",
      "6                                   Half-Life\n",
      "31                     The Ship: Murder Party\n",
      "13                    Half-Life 2: Deathmatch\n",
      "Name: name, dtype: object\n",
      "Recommendation Based on Description\n",
      "14                   Half-Life 2: Lost Coast\n",
      "16                  Half-Life 2: Episode One\n",
      "17                                    Portal\n",
      "18                  Half-Life 2: Episode Two\n",
      "43             Rome: Total War™ - Collection\n",
      "58      Sam & Max 104: Abe Lincoln Must Die!\n",
      "69                          Star Trek Online\n",
      "77             Grand Theft Auto: San Andreas\n",
      "135    Fallout Tactics: Brotherhood of Steel\n",
      "153                            Dead Space™ 2\n",
      "Name: name, dtype: object\n"
     ]
    }
   ],
   "source": [
    "print(\"Recommendation Based on Categories/Genres\")\n",
    "print(get_recommendations(\"Counter-Strike\", cosine_sim2))\n",
    "print(\"Recommendation Based on Description\")\n",
    "print(find_similar('Counter-Strike'))"
   ]
  },
  {
   "cell_type": "code",
   "execution_count": 270,
   "id": "778bc93c",
   "metadata": {
    "ExecuteTime": {
     "end_time": "2023-08-05T19:40:54.579116Z",
     "start_time": "2023-08-05T19:40:54.569107Z"
    }
   },
   "outputs": [
    {
     "name": "stdout",
     "output_type": "stream",
     "text": [
      "Recommendation Based on Categories/Genres\n",
      "114          Burnout Paradise: The Ultimate Box\n",
      "632                                      Steep™\n",
      "247                  RaceRoom Racing Experience\n",
      "47     Star Wars: Battlefront 2 (Classic, 2005)\n",
      "644                      Heaven Forest - VR MMO\n",
      "906                  STAR WARS™ Battlefront™ II\n",
      "909                              Battlefield™ V\n",
      "790                                DOOM Eternal\n",
      "120        STAR WARS™ Empire at War - Gold Pack\n",
      "153                               Dead Space™ 2\n",
      "Name: name, dtype: object\n",
      "Recommendation Based on Description\n",
      "367                                 Rust\n",
      "523          Spooky's Jump Scare Mansion\n",
      "176        The Bureau: XCOM Declassified\n",
      "16              Half-Life 2: Episode One\n",
      "852    Halo: The Master Chief Collection\n",
      "971                         Soul Dossier\n",
      "434                           Brawlhalla\n",
      "377        Just Cause 2: Multiplayer Mod\n",
      "3                     Deathmatch Classic\n",
      "34                           Psychonauts\n",
      "Name: name, dtype: object\n"
     ]
    }
   ],
   "source": [
    "print(\"Recommendation Based on Categories/Genres\")\n",
    "print(get_recommendations(\"Need For Speed: Hot Pursuit\", cosine_sim2))\n",
    "print(\"Recommendation Based on Description\")\n",
    "print(find_similar('Need For Speed: Hot Pursuit'))"
   ]
  },
  {
   "cell_type": "code",
   "execution_count": 271,
   "id": "9bcafcc0",
   "metadata": {
    "ExecuteTime": {
     "end_time": "2023-08-05T19:40:56.102407Z",
     "start_time": "2023-08-05T19:40:56.091898Z"
    }
   },
   "outputs": [
    {
     "name": "stdout",
     "output_type": "stream",
     "text": [
      "Recommendation Based on Categories/Genres\n",
      "404                               Broforce\n",
      "772                          Overcooked! 2\n",
      "738    The LEGO® NINJAGO® Movie Video Game\n",
      "753                          Farm Together\n",
      "333                               Spelunky\n",
      "431                             Brawlhalla\n",
      "603                     Lost Castle / 失落城堡\n",
      "675                           For The King\n",
      "873                RISK: Global Domination\n",
      "623                             Overcooked\n",
      "Name: name, dtype: object\n",
      "Recommendation Based on Description\n",
      "14                      Half-Life 2: Lost Coast\n",
      "158                                       LIMBO\n",
      "367                                        Rust\n",
      "434                                  Brawlhalla\n",
      "454                                   Dead Bits\n",
      "516    NARUTO SHIPPUDEN: Ultimate Ninja STORM 4\n",
      "523                 Spooky's Jump Scare Mansion\n",
      "783         Freddy Fazbear's Pizzeria Simulator\n",
      "852           Halo: The Master Chief Collection\n",
      "876                                 サイバーパンク2077\n",
      "Name: name, dtype: object\n"
     ]
    }
   ],
   "source": [
    "print(\"Recommendation Based on Categories/Genres\")\n",
    "print(get_recommendations(\"UNO\", cosine_sim2))\n",
    "print(\"Recommendation Based on Description\")\n",
    "print(find_similar('UNO'))"
   ]
  },
  {
   "cell_type": "markdown",
   "id": "15f14acf",
   "metadata": {},
   "source": [
    "After analyzing the results, it is evident that the recommendation system based on Categories/Genres performed better in suggesting games aligned with users' interests and playstyles. Conversely, the description-based recommendation system offered a broader range of playstyles, indicating a less specific alignment with individual user preferences."
   ]
  }
 ],
 "metadata": {
  "kernelspec": {
   "display_name": "Python 3 (ipykernel)",
   "language": "python",
   "name": "python3"
  },
  "language_info": {
   "codemirror_mode": {
    "name": "ipython",
    "version": 3
   },
   "file_extension": ".py",
   "mimetype": "text/x-python",
   "name": "python",
   "nbconvert_exporter": "python",
   "pygments_lexer": "ipython3",
   "version": "3.9.7"
  }
 },
 "nbformat": 4,
 "nbformat_minor": 5
}
